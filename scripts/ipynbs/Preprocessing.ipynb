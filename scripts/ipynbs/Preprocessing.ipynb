{
 "cells": [
  {
   "cell_type": "code",
   "execution_count": 16,
   "id": "8aecc858",
   "metadata": {},
   "outputs": [],
   "source": [
    "import gzip\n",
    "import numpy as np\n",
    "import logging\n",
    "\n",
    "from collections import deque\n",
    "\n",
    "\n",
    "logger = logging.getLogger(__name__)\n",
    "\n",
    "\n",
    "# zcat EE87920.hg38.frag.gz | awk -F'\\t' '{print $3 - $2}' | sort -nr | head -n 1 -> 262\n",
    "MATRIX_ROWS = int(262 * 1.5)  # add 50% threshold\n",
    "MATRIX_COLUMNS = 2000\n",
    "MATRIX_COLUMNS_HALF = MATRIX_COLUMNS // 2\n",
    "\n",
    "\n",
    "TEST_DATA = \"../../raw_data/test/EE87920_10lines.hg38.frag.gz\"\n",
    "TEST_DHS_DATA = \"../../raw_data/test/DHS_test.gz\"\n",
    "\n",
    "\n",
    "def read_dhs_to_memory():\n",
    "    sites = deque()\n",
    "    with gzip.open(TEST_DHS_DATA, 'rt') as f:\n",
    "        for line in f:\n",
    "            start, end = line.split('\\t')\n",
    "            sites.append((int(end)+int(start))//2)\n",
    "    return sites, len(sites)\n",
    "    \n",
    "\n",
    "def get_curr_dhs() -> tuple:\n",
    "    if not DHS_sites:\n",
    "        return None, None, None, None\n",
    "    \n",
    "    curr_dhs = DHS_sites.popleft()\n",
    "    return (\n",
    "        curr_dhs, \n",
    "        curr_dhs - MATRIX_COLUMNS_HALF, \n",
    "        curr_dhs + MATRIX_COLUMNS_HALF, \n",
    "        initial_DHS_length - len(DHS_sites) - 1\n",
    "    )\n",
    "\n",
    "def parse_fragment(line: str) -> tuple:\n",
    "    parsed_fragment = line.strip().split('\\t')\n",
    "    start, end = parsed_fragment[1:3]\n",
    "    return int(start), int(end)\n",
    "\n",
    "DHS_sites, initial_DHS_length = read_dhs_to_memory()\n",
    "\n",
    "result = np.zeros((len(DHS_sites), MATRIX_ROWS, MATRIX_COLUMNS))\n",
    "curr_dhs, curr_dhs_start, curr_dhs_end, curr_dhs_index = get_curr_dhs()\n",
    "with gzip.open(TEST_DATA, 'rt') as f:\n",
    "    for line in f:\n",
    "        start, end = parse_fragment(line)\n",
    "        fragment_length = end - start\n",
    "        \n",
    "        # if the fragment is too long skip and log it for now\n",
    "        if fragment_length >= MATRIX_ROWS:\n",
    "            logger.warning(f'Skipped fragment due to too high length:\\nstart:{start}\\nend:{end}')\n",
    "            continue\n",
    "        \n",
    "        # move dhs until we have overlapping fragments\n",
    "        while curr_dhs and end >= curr_dhs_end:\n",
    "            curr_dhs, curr_dhs_start, curr_dhs_end, curr_dhs_index = get_curr_dhs()\n",
    "            if curr_dhs is None:\n",
    "                logger.warning('No more DHS sites')\n",
    "                break\n",
    "                \n",
    "        if curr_dhs is None:\n",
    "            logger.warning('No more DHS sites')\n",
    "            break\n",
    "            \n",
    "        \n",
    "        if start >= curr_dhs_start and end <= curr_dhs_end:\n",
    "            rel_start = start - curr_dhs_start\n",
    "            rel_end = end - curr_dhs_start\n",
    "            \n",
    "            # take care boundaries so we ain't updating nonexistent rows or columns\n",
    "            rel_start = max(0, rel_start)\n",
    "            rel_end = min(MATRIX_COLUMNS - 1, rel_end)\n",
    "            \n",
    "            if rel_start < rel_end:\n",
    "                result[curr_dhs_index, fragment_length, rel_start:rel_end+1] += 1\n",
    "        \n",
    "        \n",
    "# saving result\n",
    "np.save('../../data/test/EE87920_10lines__DHS_test.npy', result)\n"
   ]
  },
  {
   "cell_type": "code",
   "execution_count": 9,
   "id": "32593eb0",
   "metadata": {},
   "outputs": [
    {
     "data": {
      "text/plain": [
       "3168.0"
      ]
     },
     "execution_count": 9,
     "metadata": {},
     "output_type": "execute_result"
    }
   ],
   "source": [
    "import numpy as np\n",
    "\n",
    "# opening numpy arrays\n",
    "with open('../../data/test/EE87920_10lines__DHS_test.npy', 'rb') as f:\n",
    "    a = np.load(f)\n",
    "    \n",
    "a.sum()"
   ]
  }
 ],
 "metadata": {
  "kernelspec": {
   "display_name": "Python 3 (ipykernel)",
   "language": "python",
   "name": "python3"
  },
  "language_info": {
   "codemirror_mode": {
    "name": "ipython",
    "version": 3
   },
   "file_extension": ".py",
   "mimetype": "text/x-python",
   "name": "python",
   "nbconvert_exporter": "python",
   "pygments_lexer": "ipython3",
   "version": "3.10.8"
  }
 },
 "nbformat": 4,
 "nbformat_minor": 5
}
